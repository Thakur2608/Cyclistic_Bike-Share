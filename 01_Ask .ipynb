{
 "cells": [
  {
   "cell_type": "markdown",
   "id": "3cd2bb66",
   "metadata": {},
   "source": [
    "# Scenario"
   ]
  },
  {
   "cell_type": "markdown",
   "id": "b2ae1b5a",
   "metadata": {},
   "source": [
    "I am a junior data analyst working in the marketing analyst team at **Cyclistic**, a bike-share company in Chicago. \n",
    "- The director of marketing believes the company’s future success depends on maximizing the number of annual memberships.\n",
    "- Therefore, ***I want to understand how casual riders and annual members use Cyclistic bikes differently.*** \n",
    "- From these insights, the marketing team will design a new marketing strategy to convert casual riders into annual members.\n",
    "\n",
    "But first, Cyclistic executives must approve my recommendations, \n",
    "so I will back up my insights with compelling data insights and professional data visualizations."
   ]
  },
  {
   "cell_type": "markdown",
   "id": "6bfefb2c",
   "metadata": {},
   "source": [
    "-----------------\n",
    "**Characters and teams**\n",
    "\n",
    "1. **Cyclistic:** \n",
    "> A bike-share program that features more than 5,800 bicycles and 600 docking stations. \n",
    "Cyclistic sets itself apart by also offering reclining bikes, hand tricycles, and cargo bikes, making bike-share more inclusive to people with disabilities and riders who can’t use a standard two-wheeled bike. \n",
    "The majority of riders opt for traditional bikes; about 8% of riders use the assistive options. \n",
    "\n",
    "2. **Lily Moreno:** \n",
    "> The director of marketing and my manager. \n",
    "\n",
    "3. **Cyclistic marketing analytics team:** \n",
    "> A team of data analysts who are responsible for collecting, analyzing, and reporting data that helps guide Cyclistic marketing strategy. \n",
    "\n",
    "4. **Cyclistic executive team:** \n",
    "> The notoriously detail-oriented executive team will decide whether to approve the recommended marketing program."
   ]
  },
  {
   "cell_type": "markdown",
   "id": "0b0960ae",
   "metadata": {},
   "source": [
    "-------\n",
    "**Pricing Plans**\n",
    "\n",
    "> 1. single-ride passes, \n",
    "> 2. full-day passes, and\n",
    "> 3. annual memberships. \n",
    "\n",
    "Customers who purchase single-ride or full-day passes are referred to as **casual riders**. Customers who purchase annual memberships are Cyclistic **members**."
   ]
  },
  {
   "cell_type": "markdown",
   "id": "751ee59a",
   "metadata": {},
   "source": [
    "Cyclistic’s finance analysts have concluded that *annual members are much more profitable than casual riders.* \n",
    "\n",
    "Although the pricing flexibility helps Cyclistic attract more customers, Moreno believes that maximizing the number of annual members will be key to future growth. Rather than creating a marketing campaign that targets all-new customers, Moreno believes there is a very good chance to convert casual riders into members. She notes that casual riders are already aware of the Cyclistic program and have chosen Cyclistic for their mobility needs."
   ]
  },
  {
   "cell_type": "markdown",
   "id": "5242e03b",
   "metadata": {},
   "source": [
    "--------\n",
    "Moreno has set a **clear goal:** \n",
    "> *Design marketing strategies aimed at converting casual riders into annual members*. \n",
    "\n",
    "In order to do that, however, the marketing analyst team needs to better understand \n",
    ">1. how annual members and casual riders differ, \n",
    ">2. why casual riders would buy a membership, and \n",
    ">3. how digital media could affect their marketing tactics. \n",
    "\n"
   ]
  },
  {
   "cell_type": "markdown",
   "id": "cacd980f",
   "metadata": {},
   "source": [
    "# Ask "
   ]
  },
  {
   "cell_type": "markdown",
   "id": "265f696d",
   "metadata": {},
   "source": [
    "**Three questions will guide the future marketing program:**\n",
    "1. How do annual members and casual riders use Cyclistic bikes differently?\n",
    "2. Why would casual riders buy Cyclistic annual memberships?\n",
    "3. How can Cyclistic use digital media to influence casual riders to become members?"
   ]
  },
  {
   "cell_type": "markdown",
   "id": "03fe538a",
   "metadata": {},
   "source": [
    "**Deliverables:**\n",
    "1. A clear statement of the business task\n",
    "2. A description of all data sources used\n",
    "3. Documentation of any cleaning or manipulation of data\n",
    "4. A summary of your analysis\n",
    "5. Supporting visualizations and key findings\n",
    "6. Your top three recommendations based on your analysis"
   ]
  }
 ],
 "metadata": {
  "kernelspec": {
   "display_name": "Python 3 (ipykernel)",
   "language": "python",
   "name": "python3"
  },
  "language_info": {
   "codemirror_mode": {
    "name": "ipython",
    "version": 3
   },
   "file_extension": ".py",
   "mimetype": "text/x-python",
   "name": "python",
   "nbconvert_exporter": "python",
   "pygments_lexer": "ipython3",
   "version": "3.10.8"
  }
 },
 "nbformat": 4,
 "nbformat_minor": 5
}
