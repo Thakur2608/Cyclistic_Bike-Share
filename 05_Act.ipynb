{
 "cells": [
  {
   "cell_type": "markdown",
   "id": "a5dc405f",
   "metadata": {},
   "source": [
    "**Tableau dashboard is prepared to showcase these analysis with compelling visuals** \n",
    "\n",
    "***To checkout my Tableau dashboard*** [click here](https://public.tableau.com/app/profile/arvind.kumar8011/viz/Citi-bikemembershiptype/Dashboard1)"
   ]
  },
  {
   "cell_type": "code",
   "execution_count": null,
   "id": "243830c1",
   "metadata": {},
   "outputs": [],
   "source": []
  }
 ],
 "metadata": {
  "kernelspec": {
   "display_name": "Python 3 (ipykernel)",
   "language": "python",
   "name": "python3"
  },
  "language_info": {
   "codemirror_mode": {
    "name": "ipython",
    "version": 3
   },
   "file_extension": ".py",
   "mimetype": "text/x-python",
   "name": "python",
   "nbconvert_exporter": "python",
   "pygments_lexer": "ipython3",
   "version": "3.10.8"
  }
 },
 "nbformat": 4,
 "nbformat_minor": 5
}
